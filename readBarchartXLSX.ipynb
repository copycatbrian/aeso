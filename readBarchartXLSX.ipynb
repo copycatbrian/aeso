{
  "nbformat": 4,
  "nbformat_minor": 0,
  "metadata": {
    "colab": {
      "provenance": [],
      "authorship_tag": "ABX9TyOXZSjwd9RVkple3f0j+fW6",
      "include_colab_link": true
    },
    "kernelspec": {
      "name": "python3",
      "display_name": "Python 3"
    },
    "language_info": {
      "name": "python"
    }
  },
  "cells": [
    {
      "cell_type": "markdown",
      "metadata": {
        "id": "view-in-github",
        "colab_type": "text"
      },
      "source": [
        "<a href=\"https://colab.research.google.com/github/copycatbrian/aeso/blob/main/readBarchartXLSX.ipynb\" target=\"_parent\"><img src=\"https://colab.research.google.com/assets/colab-badge.svg\" alt=\"Open In Colab\"/></a>"
      ]
    },
    {
      "cell_type": "code",
      "execution_count": 1,
      "metadata": {
        "colab": {
          "base_uri": "https://localhost:8080/"
        },
        "id": "HqdQARG3QHX2",
        "outputId": "515be2a8-ec34-4f8d-e6c3-032064a71b02"
      },
      "outputs": [
        {
          "output_type": "stream",
          "name": "stdout",
          "text": [
            "Mounted at /content/gdrive\n"
          ]
        }
      ],
      "source": [
        "from google.colab import drive\n",
        "\n",
        "drive.mount('/content/gdrive')"
      ]
    },
    {
      "cell_type": "code",
      "source": [
        "!ls 'gdrive/MyDrive/futuresData'"
      ],
      "metadata": {
        "colab": {
          "base_uri": "https://localhost:8080/"
        },
        "id": "yw3uNWQNVCtG",
        "outputId": "9dda95c6-54fa-4d4f-da86-ad508fe33942"
      },
      "execution_count": 2,
      "outputs": [
        {
          "output_type": "stream",
          "name": "stdout",
          "text": [
            "'barchart futures prices jan 2023.xlsx'   ccb_dataPrep.ipynb\n"
          ]
        }
      ]
    },
    {
      "cell_type": "code",
      "source": [
        "import pandas as pd\n"
      ],
      "metadata": {
        "id": "ySJFJLtIV3xk"
      },
      "execution_count": 3,
      "outputs": []
    },
    {
      "cell_type": "code",
      "source": [
        "import pandas as pd\n",
        "import numpy as np"
      ],
      "metadata": {
        "id": "rPt7s-7lV6sk"
      },
      "execution_count": 4,
      "outputs": []
    },
    {
      "cell_type": "code",
      "source": [
        "filepath = r'gdrive/MyDrive/futuresData/barchart futures prices jan 2023.xlsx'\n",
        "xls = pd.ExcelFile(filepath)"
      ],
      "metadata": {
        "id": "QYMqbw_6WooA"
      },
      "execution_count": 5,
      "outputs": []
    },
    {
      "cell_type": "code",
      "source": [
        "xls.sheet_names"
      ],
      "metadata": {
        "colab": {
          "base_uri": "https://localhost:8080/"
        },
        "id": "0xAXlgdzWpsL",
        "outputId": "dfb658de-1e28-4c3c-9682-e392fb4f2ef0"
      },
      "execution_count": 6,
      "outputs": [
        {
          "output_type": "execute_result",
          "data": {
            "text/plain": [
              "['NQ',\n",
              " 'YM',\n",
              " 'ES',\n",
              " 'GC',\n",
              " 'SI',\n",
              " 'Sheet1',\n",
              " 'ContractCodes',\n",
              " 'CL',\n",
              " 'RB',\n",
              " 'HO',\n",
              " 'NG']"
            ]
          },
          "metadata": {},
          "execution_count": 6
        }
      ]
    },
    {
      "cell_type": "code",
      "source": [
        "from datetime import datetime\n",
        "\n",
        "def futures_month_to_date(month_code, year) :\n",
        "    month_codes = {'F': 1, 'G': 2, 'H': 3, 'J': 4, 'K': 5, 'M': 6,\n",
        "                   'N': 7, 'Q': 8, 'U': 9, 'V': 10, 'X': 11, 'Z': 12}\n",
        "    month_num = month_codes[month_code.upper()]\n",
        "    return datetime(year=int(year)+2000, month=month_num, day=1)"
      ],
      "metadata": {
        "id": "8UsLjLRgWrDP"
      },
      "execution_count": 7,
      "outputs": []
    },
    {
      "cell_type": "code",
      "source": [
        "futures_month_to_date('z', '25')"
      ],
      "metadata": {
        "colab": {
          "base_uri": "https://localhost:8080/"
        },
        "id": "Nw-NE4pvXOXy",
        "outputId": "e40333d7-0a95-439b-c281-6ce4f6cc8a25"
      },
      "execution_count": 8,
      "outputs": [
        {
          "output_type": "execute_result",
          "data": {
            "text/plain": [
              "datetime.datetime(2025, 12, 1, 0, 0)"
            ]
          },
          "metadata": {},
          "execution_count": 8
        }
      ]
    },
    {
      "cell_type": "code",
      "source": [
        "df = pd.read_excel(filepath, sheet_name='CL',header = 1)"
      ],
      "metadata": {
        "id": "msB1kqKnXP7h"
      },
      "execution_count": 9,
      "outputs": []
    },
    {
      "cell_type": "code",
      "source": [],
      "metadata": {
        "id": "5NnE0Yu8XgFZ"
      },
      "execution_count": null,
      "outputs": []
    },
    {
      "cell_type": "markdown",
      "source": [],
      "metadata": {
        "id": "TwYf9Ca0XYy6"
      }
    }
  ]
}